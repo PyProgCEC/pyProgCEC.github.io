{
 "cells": [
  {
   "cell_type": "markdown",
   "metadata": {},
   "source": [
    "# Funciones: \n",
    "\n",
    "* def\n",
    "* nombre funcion\n",
    "* parametros\n",
    "* :\n",
    "* statements\n",
    "* return statement\n",
    "* llamar la función\n",
    "\n",
    "\n",
    "\n",
    "sobrecarga de operadores"
   ]
  },
  {
   "cell_type": "code",
   "execution_count": 1,
   "metadata": {},
   "outputs": [
    {
     "name": "stdout",
     "output_type": "stream",
     "text": [
      "3\n"
     ]
    }
   ],
   "source": [
    "def nombreFuncion(param1, param2):\n",
    "    return(param1+param2)\n",
    "\n",
    "print(nombreFuncion(1,2))"
   ]
  },
  {
   "cell_type": "code",
   "execution_count": 10,
   "metadata": {},
   "outputs": [
    {
     "name": "stdout",
     "output_type": "stream",
     "text": [
      "10\n",
      "1\n",
      "4\n",
      "13\n"
     ]
    }
   ],
   "source": [
    "def parametrosMultiples(param1=10, param2=20,*params):\n",
    "    result = param1+\n",
    "    for i in params:\n",
    "        result+= i\n",
    "    return(result)\n",
    "\n",
    "print(parametrosMultiples())\n",
    "print(parametrosMultiples(1,2))\n",
    "print(parametrosMultiples(1,2,3))\n",
    "print(parametrosMultiples(1,2,3,4,5))"
   ]
  },
  {
   "cell_type": "code",
   "execution_count": 13,
   "metadata": {},
   "outputs": [
    {
     "name": "stdout",
     "output_type": "stream",
     "text": [
      "10 20 blanco rojo\n",
      "10 20 negro rojo\n",
      "10 20 blanco negro\n"
     ]
    }
   ],
   "source": [
    "def ventana(alto,ancho,color_fondo=\"blanco\",color_bordes=\"rojo\"):\n",
    "    print(alto,ancho,color_fondo,color_bordes)\n",
    "    \n",
    "ventana(10,20)\n",
    "ventana(10,20,\"negro\")\n",
    "ventana(10,20,color_bordes=\"negro\")"
   ]
  },
  {
   "cell_type": "markdown",
   "metadata": {},
   "source": [
    "#  Alcance, Variables Locales y Globales"
   ]
  },
  {
   "cell_type": "code",
   "execution_count": 14,
   "metadata": {},
   "outputs": [
    {
     "name": "stdout",
     "output_type": "stream",
     "text": [
      "2\n"
     ]
    }
   ],
   "source": [
    "a = 1\n",
    "\n",
    "def incrementar():\n",
    "    #global a\n",
    "    a_global = a\n",
    "    print(a+1)\n",
    "    a_global += 1\n",
    "    # a = a+=1\n",
    "    return a_global\n",
    "\n",
    "incrementar()"
   ]
  },
  {
   "cell_type": "markdown",
   "metadata": {},
   "source": [
    "# Modulos\n",
    "\n",
    "## pip\n",
    "\n"
   ]
  },
  {
   "cell_type": "markdown",
   "metadata": {},
   "source": [
    "# Entrada y Salida de Archivos\n",
    "\n",
    "## Modos de apertura: \n",
    "\n",
    "* Lectura (read, 'r')\n",
    "* Escritura (write, 'w')\n",
    "* Agregar (Append, 'a')\n"
   ]
  },
  {
   "cell_type": "code",
   "execution_count": 26,
   "metadata": {},
   "outputs": [
    {
     "name": "stdout",
     "output_type": "stream",
     "text": [
      "aca estoy escribiendo\n",
      "texto que voy a ir leyendo\n",
      "desde mi programa en python\n"
     ]
    }
   ],
   "source": [
    "file = open(\"auxiliar/archivo1.txt\",'r')\n",
    "lines = file.readlines()\n",
    "for line in lines:\n",
    "    print(line.rstrip())\n",
    "\n",
    "file.close()\n",
    "\n",
    "line = \"esta es una linea de texto \\n\"\n",
    "toWrite = open(\"auxiliar/newfile.txt\",'w')\n",
    "toWrite.write(line)\n",
    "toWrite.close()\n",
    "\n",
    "line = \"esta es una OTRA linea de texto diferente\"\n",
    "toWrite = open(\"auxiliar/newfile.txt\",'a')\n",
    "toWrite.write(line)\n",
    "toWrite.close()"
   ]
  },
  {
   "cell_type": "markdown",
   "metadata": {},
   "source": [
    "# Programación Orientada a Objetos: Clases"
   ]
  },
  {
   "cell_type": "code",
   "execution_count": null,
   "metadata": {},
   "outputs": [],
   "source": []
  },
  {
   "cell_type": "code",
   "execution_count": null,
   "metadata": {},
   "outputs": [],
   "source": []
  }
 ],
 "metadata": {
  "kernelspec": {
   "display_name": "Python 3",
   "language": "python",
   "name": "python3"
  },
  "language_info": {
   "codemirror_mode": {
    "name": "ipython",
    "version": 3
   },
   "file_extension": ".py",
   "mimetype": "text/x-python",
   "name": "python",
   "nbconvert_exporter": "python",
   "pygments_lexer": "ipython3",
   "version": "3.7.0"
  }
 },
 "nbformat": 4,
 "nbformat_minor": 2
}

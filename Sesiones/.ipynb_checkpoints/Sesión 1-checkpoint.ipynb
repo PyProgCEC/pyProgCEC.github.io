{
 "cells": [
  {
   "cell_type": "markdown",
   "metadata": {},
   "source": [
    "# Introducción\n",
    "\n",
    "\n",
    "## Presentación \n",
    "\n",
    "## Historia\n",
    "\n",
    "## ¿Qué es Python?\n",
    "\n",
    "\n",
    "## ¿Por qué Python?\n",
    "\n",
    "\n",
    "### Pro's\n",
    "\n",
    "* Uno de los lenguajes mas populares\n",
    "* Sintaxis clara y organizada\n",
    "* Facilidad de Lectura: reusabilidad, mantenibilidad\n",
    "* Bibliotecas\n",
    "* Recursos\n",
    "* Usos en la Academia, Industria\n",
    "* Productividad\n",
    "* Interpretado: corre inmediatamente sin necesidad de Compilar\n",
    "* Velocidad de Desarrollo\n",
    "* Portabilidad\n",
    "* Lenguaje de Programación multiproposito: Procedural, Functional and object-oriented paradigms\n",
    "\n",
    "\n",
    "### Contras:\n",
    "\n",
    "* Velocidad\n",
    "\n",
    "\n",
    "\n",
    "## ¿Para qué me sirve Python?\n",
    "\n",
    "* Scripts de uso general\n",
    "* Aplicaciones Stand Alone\n",
    "* Aplicaciones Web\n",
    "* Data-analysis\n",
    "* Programación Científica\n",
    "* Internet Scripting\n",
    "* Web Scrapping\n",
    "* Database Programming\n",
    "\n",
    "## ¿Quienes usan Python?\n",
    "\n",
    "* Google\n",
    "* Youtube\n",
    "* Dropbox\n",
    "* BitTorrent\n",
    "* Raspberry pi\n",
    "* NSA\n",
    "* NASA"
   ]
  },
  {
   "cell_type": "markdown",
   "metadata": {},
   "source": [
    "# Instación\n",
    "\n",
    "## Interpretes\n",
    "\n",
    "## IDE's"
   ]
  },
  {
   "cell_type": "markdown",
   "metadata": {},
   "source": [
    "# Expresiones\n",
    "\n",
    "_**Una expresión**_:  es una declaración que hace algun tipo de computo. \n",
    " \n",
    "Este computo puede ser una operación, almacenar un valor, ejecutar una función, etc...\n",
    "\n",
    "\n",
    "# Comentarios\n",
    "\n",
    "/# comienzan con el caractér \"#\" cubren toda la linea y es ignorada por el interprete.\n",
    "\n",
    "\n",
    "# Ejecución desde Consola\n",
    "\n",
    "http://localhost:8888/notebooks/Dropbox/Courses/Python-CEC/Sesiones/auxiliar/lineaDeEjecuci%C3%B3nEnLinux.py.ipynb"
   ]
  },
  {
   "cell_type": "markdown",
   "metadata": {},
   "source": [
    "# Built In Functions"
   ]
  },
  {
   "cell_type": "code",
   "execution_count": 1,
   "metadata": {},
   "outputs": [
    {
     "name": "stdout",
     "output_type": "stream",
     "text": [
      "hola\n",
      "ingrese un numero\n"
     ]
    },
    {
     "ename": "TypeError",
     "evalue": "can only concatenate str (not \"int\") to str",
     "output_type": "error",
     "traceback": [
      "\u001b[1;31m---------------------------------------------------------------------------\u001b[0m",
      "\u001b[1;31mTypeError\u001b[0m                                 Traceback (most recent call last)",
      "\u001b[1;32m<ipython-input-1-600a9c9af46b>\u001b[0m in \u001b[0;36m<module>\u001b[1;34m\u001b[0m\n\u001b[0;32m      3\u001b[0m \u001b[0mvariable1\u001b[0m \u001b[1;33m=\u001b[0m \u001b[0minput\u001b[0m\u001b[1;33m(\u001b[0m\u001b[1;34m\"ingrese un numero\"\u001b[0m\u001b[1;33m)\u001b[0m\u001b[1;33m\u001b[0m\u001b[0m\n\u001b[0;32m      4\u001b[0m \u001b[1;33m\u001b[0m\u001b[0m\n\u001b[1;32m----> 5\u001b[1;33m \u001b[0mprint\u001b[0m\u001b[1;33m(\u001b[0m\u001b[0mvariable1\u001b[0m \u001b[1;33m+\u001b[0m \u001b[1;36m1\u001b[0m\u001b[1;33m)\u001b[0m\u001b[1;33m\u001b[0m\u001b[0m\n\u001b[0m\u001b[0;32m      6\u001b[0m \u001b[1;33m\u001b[0m\u001b[0m\n\u001b[0;32m      7\u001b[0m \u001b[0mvariable2\u001b[0m \u001b[1;33m=\u001b[0m \u001b[0mstr\u001b[0m\u001b[1;33m(\u001b[0m\u001b[0minput\u001b[0m\u001b[1;33m(\u001b[0m\u001b[1;34m\"ingrese su nombre: \"\u001b[0m\u001b[1;33m)\u001b[0m\u001b[1;33m)\u001b[0m\u001b[1;33m\u001b[0m\u001b[0m\n",
      "\u001b[1;31mTypeError\u001b[0m: can only concatenate str (not \"int\") to str"
     ]
    }
   ],
   "source": [
    "print(\"hola\")\n",
    "\n",
    "variable1 = input(\"ingrese un numero\")\n",
    "\n",
    "print(variable1 + 1)\n",
    "\n",
    "variable2 = str(input(\"ingrese su nombre: \"))\n",
    "print(len(variable2))\n",
    "\n",
    "print(type(variable2))\n",
    "\n",
    "range(10)\n",
    "range(1,10)\n",
    "range(1,10,2)\n"
   ]
  },
  {
   "cell_type": "markdown",
   "metadata": {},
   "source": [
    "# Variables  y Tipos de datos\n",
    "\n",
    "\n",
    "snake_case\n",
    "camel_Case\n",
    "\n",
    "\n",
    "## typos de variables\n",
    "\n",
    "* boolean\n",
    "* entero int\n",
    "* flotante float\n",
    "* String => Cadena de Caracteres  (texto y Caracteres)\n",
    "* ...y hay otros... (listas, tuplas, diccionarios)\n",
    "\n",
    "## Casting entre tipos\n",
    "\n",
    "Se puede convertir de un tipo a otro \n",
    "siempre y cuando la converción sea valida\n",
    "no podemos convertir la palabra \"hola\" a flotante\n",
    "\n"
   ]
  },
  {
   "cell_type": "code",
   "execution_count": null,
   "metadata": {},
   "outputs": [],
   "source": [
    "# Por Standar el nombre de Variable va en Mayuscula\n",
    "\n",
    "CONSTANTES = 0 \n",
    "\n",
    "\n",
    "# String de Caracteres con la palabra \"hello\"\n",
    "print(\"hello\"+\" \"+\"Nelson\") \n",
    "\n",
    "# String asignado a la variable 'hello'\n",
    "hello = \"Bienvenidos a los tipos de Python\"  \n",
    "hello = hello + \" hola laura\"\n",
    "\n",
    "print(type(hello))\n",
    "\n",
    "# imprimir en pantalla el contenido de la variable \"hello\"\n",
    "print(hello) \n",
    "\n",
    "# imprimir el resultado de pedir la longitud del contenido de la variable \"hello\"\n",
    "print(len(hello)) \n",
    "\n",
    "# asigna a la variable hello el valor de pi tipo float\n",
    "hello = 3.141592 \n",
    "\n",
    "\n",
    "\n",
    "\n",
    "lista = []\n",
    "for i in range(-5,5,2):\n",
    "    lista.append(i)\n",
    "print(lista)\n",
    "\n",
    "# imprime el valor, siendo ahora el float asignado\n",
    "print(hello) \n",
    "print(type(hello))\n",
    "\n",
    "# asigna a la variable hello el valor '14' de tipo entero\n",
    "hello = 14\n",
    "\n",
    "print(hello)\n",
    "print(type(hello))\n",
    "\n",
    "# asignamos a la variable 'a' un valor entero ingresado por el usuario\n",
    "a = input(\"ingrese un numero del 1 al 10\")\n",
    "\n",
    "while(a>10 or a<1 ):\n",
    "    a = input(\"ingrese un numero del 1 al 10\")\n",
    "\n",
    "for i in range(1,a+1):\n",
    "    print(i)\n",
    "    "
   ]
  },
  {
   "cell_type": "code",
   "execution_count": null,
   "metadata": {},
   "outputs": [],
   "source": [
    "variable = input(\"ingrese una letra: \")\n",
    "\n",
    "\"\"\"\n",
    "if (variable == \"a\"):\n",
    "    print(\"ud ingreso la letra a\")\n",
    "elif(variable == \"b\" ):\n",
    "    print(\"usted ingreso la letra b\")\n",
    "elif(variable == \"c\"):\n",
    "    print(\"usted ingreso la letra c\")\n",
    "else:\n",
    "    print(\"me canse...\")\n",
    "\n",
    "\"\"\"\n",
    "\n",
    "switch(variable)\n",
    "case \"a\":\n",
    "    print(\"ud ingreso la letra a\")\n",
    "    case \"b\":\n",
    "        print(\"ingreso la letra b\")"
   ]
  },
  {
   "cell_type": "code",
   "execution_count": null,
   "metadata": {},
   "outputs": [],
   "source": [
    "# import math\n",
    "\n",
    "a = 2+math.pi\n",
    "print(a)\n",
    "\n",
    "\n",
    "print(math.sqrt(144))"
   ]
  },
  {
   "cell_type": "markdown",
   "metadata": {},
   "source": [
    "## Expresiónes Matemáticas\n",
    "\n",
    "* /\n",
    "* //  -> División Entera\n",
    "* *\n",
    "* %\n",
    "* +\n",
    "* -\n",
    "* ** potencia\n"
   ]
  },
  {
   "cell_type": "markdown",
   "metadata": {},
   "source": [
    "## Precedencia de Operadores"
   ]
  },
  {
   "cell_type": "code",
   "execution_count": null,
   "metadata": {},
   "outputs": [],
   "source": [
    "3*5/2+6/3-3\n",
    "3*2.5\n",
    "3*5/2"
   ]
  }
 ],
 "metadata": {
  "kernelspec": {
   "display_name": "Python 3",
   "language": "python",
   "name": "python3"
  },
  "language_info": {
   "codemirror_mode": {
    "name": "ipython",
    "version": 3
   },
   "file_extension": ".py",
   "mimetype": "text/x-python",
   "name": "python",
   "nbconvert_exporter": "python",
   "pygments_lexer": "ipython3",
   "version": "3.7.0"
  }
 },
 "nbformat": 4,
 "nbformat_minor": 2
}

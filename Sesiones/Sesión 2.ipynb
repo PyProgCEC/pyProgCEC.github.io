{
 "cells": [
  {
   "cell_type": "markdown",
   "metadata": {},
   "source": [
    "# Indentación \n"
   ]
  },
  {
   "cell_type": "markdown",
   "metadata": {},
   "source": [
    "## Lógica aritmética \n",
    "\n",
    "Comparacion\n",
    "Igualdad\n",
    "Mayor que, Mayor o igual que...\n",
    "Menor que, Menor o igual que...\n",
    "\n",
    "\n",
    "# Condicionales\n",
    "\n",
    "\n",
    "\n",
    "\n",
    "if, elsif, else\n",
    "\n",
    "operador ternario:\n"
   ]
  },
  {
   "cell_type": "code",
   "execution_count": 5,
   "metadata": {},
   "outputs": [
    {
     "name": "stdout",
     "output_type": "stream",
     "text": [
      "Adentro del condicional\n"
     ]
    }
   ],
   "source": [
    "a = 1\n",
    "b = 5\n",
    "c = 10\n",
    "\n",
    "if a < c > b:\n",
    "    print(\"Adentro del condicional\")"
   ]
  },
  {
   "cell_type": "code",
   "execution_count": null,
   "metadata": {},
   "outputs": [],
   "source": [
    "variable = input(\"ingrese una letra: \")\n",
    "\n",
    "\"\"\"\n",
    "if (variable == \"a\"):\n",
    "    print(\"ud ingreso la letra a\")\n",
    "elif(variable == \"b\" ):\n",
    "    print(\"usted ingreso la letra b\")\n",
    "elif(variable == \"c\"):\n",
    "    print(\"usted ingreso la letra c\")\n",
    "else:\n",
    "    print(\"me canse...\")\n",
    "\n",
    "\"\"\"\n",
    "\n",
    "switch variable:\n",
    "    case \"a\":\n",
    "        print(\"ud ingreso la letra a\")\n",
    "    case \"b\":\n",
    "        print()\n",
    "\n",
    "a = int(input(\"ingrese un numero\"))\n",
    "\n",
    "if (a > 0):\n",
    "    print(\"el numero es positivo\")\n",
    "else:\n",
    "    if(a < 0):\n",
    "        print(\"el numero es negativo\")\n",
    "    else:\n",
    "        print(\"el numero es 0\")\n"
   ]
  },
  {
   "cell_type": "markdown",
   "metadata": {},
   "source": [
    "## Switch Statment\n",
    "\n",
    "NO HAY SWITCH EN PYTON!!! \n",
    "\n",
    "los elif son suficientemente claros, concisos para cumplir con esta funcion\n",
    "\n",
    "normamente un sitch iría algo como: \n",
    "\n",
    "variable <- ingrese un numero\n",
    "\n",
    "sitch(variable):\n",
    "    opcion 1:\n",
    "        statements...\n",
    "    opcion 2:\n",
    "        statements...\n",
    "    opcion 3:\n",
    "        statements...\n",
    "    opcion 4:\n",
    "        statements...\n",
    "    default: \n",
    "        statements...\n",
    "        \n",
    "### En python seria algo como:\n",
    "\n",
    "       "
   ]
  },
  {
   "cell_type": "code",
   "execution_count": 9,
   "metadata": {},
   "outputs": [
    {
     "name": "stdout",
     "output_type": "stream",
     "text": [
      "ingrese un numero5\n",
      " otra opción\n"
     ]
    }
   ],
   "source": [
    "opcion = int(input(\"ingrese un numero\"))\n",
    "\n",
    "if(opcion == 1):\n",
    "    print(\"opción 1\")\n",
    "elif(opcion == 2):\n",
    "    print(\"opción 2\")\n",
    "elif(opcion == 3):\n",
    "    print(\"opción 3\")\n",
    "elif(opcion == 4):\n",
    "    print(\"opción 4\")\n",
    "else:\n",
    "    print(\" otra opción\")"
   ]
  },
  {
   "cell_type": "markdown",
   "metadata": {},
   "source": [
    "# Ciclos \n",
    "\n",
    "* For Loop\n",
    "* while Loop"
   ]
  },
  {
   "cell_type": "code",
   "execution_count": 4,
   "metadata": {},
   "outputs": [
    {
     "name": "stdout",
     "output_type": "stream",
     "text": [
      "0\n",
      "1\n",
      "2\n",
      "3\n",
      "4\n",
      "5\n",
      "6\n",
      "7\n",
      "8\n",
      "9\n",
      "10\n"
     ]
    }
   ],
   "source": [
    "i = 0\n",
    "while True:\n",
    "    print(i)\n",
    "    i+=1\n",
    "    if i>10 : break \n",
    "    "
   ]
  },
  {
   "cell_type": "code",
   "execution_count": 2,
   "metadata": {},
   "outputs": [
    {
     "name": "stdout",
     "output_type": "stream",
     "text": [
      "43\n",
      "<class 'str'>\n",
      "104 111 108 97 9 109 97 116 101 111 32 101 115 116 97 32 101 115 9 117 110 97 32 99 97 100 101 110 97 32 100 101 32 99 97 114 97 99 116 101 114 101 115 \n"
     ]
    }
   ],
   "source": [
    "a = [1,2,3]\n",
    "a = \"hola\\tmateo esta es\\tuna cadena de caracteres\"\n",
    "print(len(a))\n",
    "print(type(a))\n",
    "\n",
    "result = \"\"\n",
    "for i in a:\n",
    "    result += str(ord(i))+\" \"\n",
    "    \n",
    "print(result)"
   ]
  },
  {
   "cell_type": "code",
   "execution_count": 26,
   "metadata": {},
   "outputs": [
    {
     "name": "stdout",
     "output_type": "stream",
     "text": [
      "5 hola Clase 6.4\n",
      "['a', 'b', 'c', 'd']\n",
      "(1, 2)\n",
      "123\n",
      "{'Sergio': 123, 'Mateo': 124, 'Juan': 533}\n"
     ]
    }
   ],
   "source": [
    "a = 5\n",
    "b = \"hola Clase\"\n",
    "c = 6.4\n",
    "e = (1,2)\n",
    "print(a,b,c)\n",
    "\n",
    "d = [\"a\",\"b\",\"c\"]\n",
    "\n",
    "dic = {\"Sergio\":123, \"Mateo\": 124 }\n",
    "\n",
    "dic[\"Juan\"] = 533\n",
    "d.append(\"d\")\n",
    "\n",
    "\n",
    "print(d)\n",
    "print(e)\n",
    "print(dic[\"Sergio\"])\n",
    "print(dic)"
   ]
  },
  {
   "cell_type": "code",
   "execution_count": null,
   "metadata": {},
   "outputs": [],
   "source": [
    "\n",
    "def esteEsElNombreDeUnaFuncion():\n",
    "    return True\n",
    "\n",
    "\n",
    "def f(x):\n",
    "    return x**2+2*x+1\n",
    "\n",
    "def g():\n",
    "    print(\"hola, soy \\\"g\\\"\")\n",
    "    return 0\n",
    "\n",
    "print(f(1))\n",
    "print(g())\n",
    "\n",
    "#print(\"se supone que esta es una linea muy larga       y yo quiero terminarla en otra linea\")\n",
    "\n"
   ]
  },
  {
   "cell_type": "code",
   "execution_count": null,
   "metadata": {},
   "outputs": [],
   "source": [
    "a = range(40,61)\n",
    "print(a)\n",
    "print(39 in a)\n",
    "\n",
    "\n",
    "vacation = True\n",
    "\n",
    "if(vacation == True):\n",
    "    print(\"es verdadero\")\n",
    "else:\n",
    "    print(\"es falso\")\n",
    "\n",
    "num = input(\"ingrese un numero: \")\n",
    "\n",
    "def gauss(n):\n",
    "    return(n*(n+1))/2\n",
    "\n",
    "print(gauss(num))\n",
    "\n",
    "\n",
    "lista = range(num+1)\n",
    "\n",
    "print(sum(lista))\n"
   ]
  },
  {
   "cell_type": "markdown",
   "metadata": {},
   "source": [
    "# Ejercicios"
   ]
  },
  {
   "cell_type": "code",
   "execution_count": null,
   "metadata": {},
   "outputs": [],
   "source": [
    "import math\n",
    "\n",
    "#print(math.pi)\n",
    "\n",
    "def askNum():\n",
    "    num = input(\"por favor ingrese un numero flotante ->  \")\n",
    "    checkNum(checkFloat(num))\n",
    "\n",
    "def checkFloat(num):\n",
    "    try:\n",
    "        return float(num)\n",
    "    except ValueError: \n",
    "        print(\"¿qué parte de flotante, no quedo clara???\")\n",
    "        print(\"Si no sabes que es un flotante no podemos continuar...\")\n",
    "        return 0\n",
    "        \n",
    "def checkNum(numero):\n",
    "    while(numero!=\"fin\"):\n",
    "        if numero < math.pi:\n",
    "            print('No, le falta para ser PI')\n",
    "            askNum()\n",
    "        elif numero == math.pi:\n",
    "            print('Coooorrecto!')\n",
    "            numero = \"fin\"\n",
    "        elif(-math.pi < numero < math.pi):\n",
    "            print('estamos a menos de dos Pis de distancia...')\n",
    "            asknum()\n",
    "        else:\n",
    "            print('te estas alejando de Pi')\n",
    "            askNum()\n",
    "        \n",
    "askNum()"
   ]
  }
 ],
 "metadata": {
  "kernelspec": {
   "display_name": "Python 3",
   "language": "python",
   "name": "python3"
  },
  "language_info": {
   "codemirror_mode": {
    "name": "ipython",
    "version": 3
   },
   "file_extension": ".py",
   "mimetype": "text/x-python",
   "name": "python",
   "nbconvert_exporter": "python",
   "pygments_lexer": "ipython3",
   "version": "3.7.0"
  }
 },
 "nbformat": 4,
 "nbformat_minor": 2
}

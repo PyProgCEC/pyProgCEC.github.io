{
 "cells": [
  {
   "cell_type": "markdown",
   "metadata": {},
   "source": [
    "#  Tuplas, Listas y Strings\n"
   ]
  },
  {
   "cell_type": "code",
   "execution_count": 54,
   "metadata": {},
   "outputs": [
    {
     "name": "stdout",
     "output_type": "stream",
     "text": [
      "[4, 6, 3, 3.5, 7, 9, 1, 1, 2, 3, 4, 5, 6]\n",
      "[6, 3, 3.5, 7, 9, 1, 1, 2, 3, 4, 5, 6]\n",
      "[6, 3, 3.5, 7, 9, 1, 1, 2, 3, 4, 6]\n",
      "5\n",
      "2\n",
      "[1, 1, 2, 3, 3, 3.5, 4, 6, 6, 7, 9]\n",
      "[9, 7, 6, 6, 4, 3.5, 3, 3, 2, 1, 1]\n"
     ]
    }
   ],
   "source": [
    "list = [4,6,3,7,9,1,1,2,3,4,5]\n",
    "list.append(6)\n",
    "list.insert(3,3.5)  # las listas son mutables... las puedo modificar!\n",
    "print(list)\n",
    "list.remove(4)\n",
    "print(list)\n",
    "a = list.pop(-2)\n",
    "print(list)\n",
    "print(a)\n",
    "print(list.count(1))\n",
    "list.sort()\n",
    "print(list)\n",
    "list.reverse()\n",
    "print(list)"
   ]
  },
  {
   "cell_type": "code",
   "execution_count": 59,
   "metadata": {},
   "outputs": [
    {
     "name": "stdout",
     "output_type": "stream",
     "text": [
      "[3, 4, 5]\n",
      "3\n",
      "[[9, 8, 7], [6, 5, 4], [3, 2, 1]]\n"
     ]
    }
   ],
   "source": [
    "listaDeListas = [[1,2,3],[3,4,5]]\n",
    "segundaLista = listaDeListas[1]\n",
    "print(segundaLista)\n",
    "print(listaDeListas[0][2])\n",
    "\n",
    "otraMatriz = [\n",
    "    [9,8,7],\n",
    "    [6,5,4],\n",
    "    [3,2,1]\n",
    "]\n",
    "\n",
    "print(otraMatriz)"
   ]
  },
  {
   "cell_type": "markdown",
   "metadata": {},
   "source": [
    "# Strings\n",
    "\n",
    "<center>Imagen de Python for Data Analysis: Wes McKinney </center>\n",
    "![images/StringIndex.png](attachment:image.png)\n"
   ]
  },
  {
   "cell_type": "code",
   "execution_count": 50,
   "metadata": {},
   "outputs": [
    {
     "name": "stdout",
     "output_type": "stream",
     "text": [
      "hola esta es una cadena\n",
      "esta \n",
      "cadena\n"
     ]
    },
    {
     "ename": "IndexError",
     "evalue": "string index out of range",
     "output_type": "error",
     "traceback": [
      "\u001b[1;31m---------------------------------------------------------------------------\u001b[0m",
      "\u001b[1;31mIndexError\u001b[0m                                Traceback (most recent call last)",
      "\u001b[1;32m<ipython-input-50-b5989ff529b7>\u001b[0m in \u001b[0;36m<module>\u001b[1;34m\u001b[0m\n\u001b[0;32m      6\u001b[0m \u001b[0mprint\u001b[0m\u001b[1;33m(\u001b[0m\u001b[0mstring\u001b[0m\u001b[1;33m[\u001b[0m\u001b[1;36m5\u001b[0m\u001b[1;33m:\u001b[0m\u001b[1;36m10\u001b[0m\u001b[1;33m]\u001b[0m\u001b[1;33m)\u001b[0m\u001b[1;33m\u001b[0m\u001b[0m\n\u001b[0;32m      7\u001b[0m \u001b[0mprint\u001b[0m\u001b[1;33m(\u001b[0m\u001b[0mstring\u001b[0m\u001b[1;33m[\u001b[0m\u001b[1;33m-\u001b[0m\u001b[1;36m6\u001b[0m\u001b[1;33m:\u001b[0m\u001b[1;33m]\u001b[0m\u001b[1;33m)\u001b[0m\u001b[1;33m\u001b[0m\u001b[0m\n\u001b[1;32m----> 8\u001b[1;33m \u001b[0mprint\u001b[0m\u001b[1;33m(\u001b[0m\u001b[0mstring\u001b[0m\u001b[1;33m[\u001b[0m\u001b[0mlen\u001b[0m\u001b[1;33m(\u001b[0m\u001b[0mstring\u001b[0m\u001b[1;33m)\u001b[0m\u001b[1;33m+\u001b[0m\u001b[1;36m1\u001b[0m\u001b[1;33m]\u001b[0m\u001b[1;33m)\u001b[0m\u001b[1;33m\u001b[0m\u001b[0m\n\u001b[0m\u001b[0;32m      9\u001b[0m \u001b[0mprint\u001b[0m\u001b[1;33m(\u001b[0m\u001b[0mstring\u001b[0m\u001b[1;33m[\u001b[0m\u001b[1;33m-\u001b[0m\u001b[1;36m1\u001b[0m\u001b[1;33m]\u001b[0m\u001b[1;33m)\u001b[0m\u001b[1;33m\u001b[0m\u001b[0m\n\u001b[0;32m     10\u001b[0m \u001b[1;33m\u001b[0m\u001b[0m\n",
      "\u001b[1;31mIndexError\u001b[0m: string index out of range"
     ]
    }
   ],
   "source": [
    "string = \"hola esta es una cadena\"\n",
    "#string.append(\"!\")\n",
    "#string[-1] = \"!\"\n",
    "\n",
    "print(string)\n",
    "print(string[5:10])\n",
    "print(string[-6:])\n",
    "print(string[len(string)+1])\n",
    "print(string[-1])\n",
    "\n",
    "\n",
    "# A diferencia de las tuplas las listas no son modificables!!!\n",
    "\n",
    "def funcionRetornaTupla():\n",
    "    return 1,2,3\n",
    "\n",
    "a,b,c = funcionRetornaTupla()\n",
    "print(a,b,c)"
   ]
  },
  {
   "cell_type": "markdown",
   "metadata": {},
   "source": [
    "# Funciones\n",
    "\n",
    "\n",
    "* def\n",
    "* nombre funcion\n",
    "* parametros\n",
    "* :\n",
    "* statements\n",
    "* return statement\n",
    "* llamar la función\n",
    "\n",
    "\n",
    "\n",
    "sobrecarga de operadores"
   ]
  },
  {
   "cell_type": "code",
   "execution_count": 1,
   "metadata": {},
   "outputs": [
    {
     "name": "stdout",
     "output_type": "stream",
     "text": [
      "3\n"
     ]
    }
   ],
   "source": [
    "def nombreFuncion(param1, param2):\n",
    "    return(param1+param2)\n",
    "\n",
    "print(nombreFuncion(1,2))"
   ]
  },
  {
   "cell_type": "code",
   "execution_count": 10,
   "metadata": {},
   "outputs": [
    {
     "name": "stdout",
     "output_type": "stream",
     "text": [
      "10\n",
      "1\n",
      "4\n",
      "13\n"
     ]
    }
   ],
   "source": [
    "def parametrosMultiples(param1=10, param2=20,*params):\n",
    "    result = param1+\n",
    "    for i in params:\n",
    "        result+= i\n",
    "    return(result)\n",
    "\n",
    "print(parametrosMultiples())\n",
    "print(parametrosMultiples(1,2))\n",
    "print(parametrosMultiples(1,2,3))\n",
    "print(parametrosMultiples(1,2,3,4,5))"
   ]
  },
  {
   "cell_type": "code",
   "execution_count": 13,
   "metadata": {},
   "outputs": [
    {
     "name": "stdout",
     "output_type": "stream",
     "text": [
      "10 20 blanco rojo\n",
      "10 20 negro rojo\n",
      "10 20 blanco negro\n"
     ]
    }
   ],
   "source": [
    "def ventana(alto,ancho,color_fondo=\"blanco\",color_bordes=\"rojo\"):\n",
    "    print(alto,ancho,color_fondo,color_bordes)\n",
    "    \n",
    "ventana(10,20)\n",
    "ventana(10,20,\"negro\")\n",
    "ventana(10,20,color_bordes=\"negro\")"
   ]
  },
  {
   "cell_type": "markdown",
   "metadata": {},
   "source": [
    "#  Alcance, Variables Locales y Globales"
   ]
  },
  {
   "cell_type": "code",
   "execution_count": 14,
   "metadata": {},
   "outputs": [
    {
     "name": "stdout",
     "output_type": "stream",
     "text": [
      "2\n"
     ]
    }
   ],
   "source": [
    "a = 1\n",
    "\n",
    "def incrementar():\n",
    "    #global a\n",
    "    a_global = a\n",
    "    print(a+1)\n",
    "    a_global += 1\n",
    "    # a = a+=1\n",
    "    return a_global\n",
    "\n",
    "incrementar()"
   ]
  },
  {
   "cell_type": "markdown",
   "metadata": {},
   "source": [
    "# Modulos\n",
    "\n",
    "## pip\n",
    "\n"
   ]
  },
  {
   "cell_type": "markdown",
   "metadata": {},
   "source": [
    "# Entrada y Salida de Archivos\n",
    "\n",
    "## Modos de apertura: \n",
    "\n",
    "* Lectura (read, 'r')\n",
    "* Escritura (write, 'w')\n",
    "* Agregar (Append, 'a')\n"
   ]
  },
  {
   "cell_type": "code",
   "execution_count": 26,
   "metadata": {},
   "outputs": [
    {
     "name": "stdout",
     "output_type": "stream",
     "text": [
      "aca estoy escribiendo\n",
      "texto que voy a ir leyendo\n",
      "desde mi programa en python\n"
     ]
    }
   ],
   "source": [
    "file = open(\"auxiliar/archivo1.txt\",'r')\n",
    "lines = file.readlines()\n",
    "for line in lines:\n",
    "    print(line.rstrip())\n",
    "\n",
    "file.close()\n",
    "\n",
    "line = \"esta es una linea de texto \\n\"\n",
    "toWrite = open(\"auxiliar/newfile.txt\",'w')\n",
    "toWrite.write(line)\n",
    "toWrite.close()\n",
    "\n",
    "line = \"esta es una OTRA linea de texto diferente\"\n",
    "toWrite = open(\"auxiliar/newfile.txt\",'a')\n",
    "toWrite.write(line)\n",
    "toWrite.close()"
   ]
  },
  {
   "cell_type": "markdown",
   "metadata": {},
   "source": [
    "# [Coma Separated Values](https://docs.python.org/3/library/csv.html)\n",
    "\n",
    "\n"
   ]
  },
  {
   "cell_type": "code",
   "execution_count": 70,
   "metadata": {},
   "outputs": [
    {
     "name": "stdout",
     "output_type": "stream",
     "text": [
      "['a_o', 'armas_medios', 'barrios_hecho']\n",
      "['2017', 'ACIDO', 'CAMPO HERMOSO']\n",
      "['2018', 'ARMA BLANCA / CORTOPUNZANTE', '5 DE ENERO']\n",
      "['2010', 'ARMA BLANCA / CORTOPUNZANTE', '12 DE OCTUBRE']\n",
      "['2012', 'ARMA BLANCA / CORTOPUNZANTE', '12 DE OCTUBRE']\n",
      "['2016', 'ARMA BLANCA / CORTOPUNZANTE', '12 DE OCTUBRE']\n",
      "['2018', 'ARMA BLANCA / CORTOPUNZANTE', '12 DE OCTUBRE']\n",
      "['2014', 'ARMA BLANCA / CORTOPUNZANTE', 'AFRICA']\n",
      "['2010', 'ARMA BLANCA / CORTOPUNZANTE', 'ALARCON']\n",
      "['2010', 'ARMA BLANCA / CORTOPUNZANTE', 'ALARCON']\n",
      "['2011', 'ARMA BLANCA / CORTOPUNZANTE', 'ALARCON']\n",
      "['barrios_hecho', 'CAMPO HERMOSO', '5 DE ENERO', '12 DE OCTUBRE', '12 DE OCTUBRE', '12 DE OCTUBRE', '12 DE OCTUBRE', 'AFRICA', 'ALARCON', 'ALARCON', 'ALARCON']\n"
     ]
    }
   ],
   "source": [
    "\n",
    "import csv\n",
    "\n",
    "with open(\"auxiliar/DelitosBucaramanga.csv\", encoding='utf-8') as csvfile:\n",
    "    readCSV = csv.reader(csvfile)\n",
    "    cont = 0\n",
    "    \n",
    "    barrios = []\n",
    "    for row in readCSV:\n",
    "        barrio = row[2]\n",
    "        barrios.append(barrio)\n",
    "        print(row[0:3])\n",
    "        cont+=1\n",
    "        if(cont>10): break\n",
    "    \n",
    "    print(barrios)\n",
    "    #print(readCSV[10:20])\n",
    "    \n",
    "    "
   ]
  },
  {
   "cell_type": "markdown",
   "metadata": {},
   "source": []
  },
  {
   "cell_type": "code",
   "execution_count": null,
   "metadata": {},
   "outputs": [],
   "source": []
  },
  {
   "cell_type": "code",
   "execution_count": null,
   "metadata": {},
   "outputs": [],
   "source": []
  }
 ],
 "metadata": {
  "kernelspec": {
   "display_name": "Python 3",
   "language": "python",
   "name": "python3"
  },
  "language_info": {
   "codemirror_mode": {
    "name": "ipython",
    "version": 3
   },
   "file_extension": ".py",
   "mimetype": "text/x-python",
   "name": "python",
   "nbconvert_exporter": "python",
   "pygments_lexer": "ipython3",
   "version": "3.7.0"
  }
 },
 "nbformat": 4,
 "nbformat_minor": 2
}

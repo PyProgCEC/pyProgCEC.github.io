{
 "cells": [
  {
   "cell_type": "code",
   "execution_count": 6,
   "metadata": {},
   "outputs": [
    {
     "name": "stdout",
     "output_type": "stream",
     "text": [
      "20.545454545454547\n",
      "23\n",
      "14.32036058459169\n",
      "205.07272727272726\n",
      "14.32036058459169\n"
     ]
    }
   ],
   "source": [
    "import statistics as st\n",
    "from math import sqrt\n",
    "\n",
    "lista = [31,34,4,45,23,3,12,5,23,12,34]\n",
    "\n",
    "#print(sum(lista)/len(lista))\n",
    "\n",
    "print(st.mean(lista))\n",
    "print(st.median(lista))\n",
    "print(st.stdev(lista))\n",
    "print(st.variance(lista))\n",
    "print(sqrt(st.variance(lista)))"
   ]
  },
  {
   "cell_type": "code",
   "execution_count": null,
   "metadata": {},
   "outputs": [],
   "source": []
  }
 ],
 "metadata": {
  "kernelspec": {
   "display_name": "Python 3",
   "language": "python",
   "name": "python3"
  },
  "language_info": {
   "codemirror_mode": {
    "name": "ipython",
    "version": 3
   },
   "file_extension": ".py",
   "mimetype": "text/x-python",
   "name": "python",
   "nbconvert_exporter": "python",
   "pygments_lexer": "ipython3",
   "version": "3.7.0"
  }
 },
 "nbformat": 4,
 "nbformat_minor": 2
}

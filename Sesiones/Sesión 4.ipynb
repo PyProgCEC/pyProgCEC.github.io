{
 "cells": [
  {
   "cell_type": "code",
   "execution_count": null,
   "metadata": {},
   "outputs": [],
   "source": []
  },
  {
   "cell_type": "markdown",
   "metadata": {},
   "source": [
    "# Excepciones\n",
    "\n",
    "Nacen de la necesidad de evitar que nuestro programa termine por una situación anormal\n",
    "\n",
    "## Tipos de Errores\n",
    "\n",
    "* NameError: name 'var_1' is not defined\n",
    "* SyntaxError: EOL while scanning string literal\n",
    "* SyntaxError: unexpected EOF while parsing\n",
    "\n",
    "## Try\n"
   ]
  },
  {
   "cell_type": "code",
   "execution_count": 5,
   "metadata": {},
   "outputs": [
    {
     "ename": "SyntaxError",
     "evalue": "unexpected EOF while parsing (<ipython-input-5-50c727e249cd>, line 7)",
     "output_type": "error",
     "traceback": [
      "\u001b[1;36m  File \u001b[1;32m\"<ipython-input-5-50c727e249cd>\"\u001b[1;36m, line \u001b[1;32m7\u001b[0m\n\u001b[1;33m    print(a\u001b[0m\n\u001b[1;37m           ^\u001b[0m\n\u001b[1;31mSyntaxError\u001b[0m\u001b[1;31m:\u001b[0m unexpected EOF while parsing\n"
     ]
    }
   ],
   "source": [
    "# var1 = 5\n",
    "# print(var_1)\n",
    "\n",
    "# x = \"hola mundo\n",
    "# print(x)1\n",
    "\n",
    "print(a)"
   ]
  },
  {
   "cell_type": "code",
   "execution_count": null,
   "metadata": {},
   "outputs": [],
   "source": [
    "import csv\n",
    "\n",
    "with open(\"auxiliar/DelitosBucaramanga.csv\", encoding='utf-8') as csvfile:\n",
    "    readCSV = csv.reader(csvfile)\n",
    "    cont = 0\n",
    "    \n",
    "    barrios = []\n",
    "    fechas = []\n",
    "    for row in readCSV:\n",
    "        barrio = row[2]\n",
    "        fecha = row[11]\n",
    "        barrios.append(barrio.lower())\n",
    "        fechas.append(fecha)\n",
    "        print(row)\n",
    "        cont+=1\n",
    "        if(cont>5): break\n",
    "    \n",
    "    print(barrios)\n",
    "    print(fechas)\n",
    "    #print(readCSV[10:20])\n",
    "    \n",
    "    #el_barrio = input(\"ingrese el barrio a analizar: \")\n",
    "    #indice = barrios.index(el_barrio)\n",
    "    #print(indice)\n",
    "    \n",
    "    try: \n",
    "        el_barrio = input(\"ingrese el barrio a analizar: \")\n",
    "        if(el_barrio in barrios):\n",
    "            indice = barrios.index(el_barrio)\n",
    "            print(fecha[indice])\n",
    "        else: \n",
    "            print(\"El barrio no esta presente\")\n",
    "    except Exception as e:  # NameError\n",
    "        print(e)\n",
    "\n",
    "    print(\"...y el programa continua...\")\n",
    "    "
   ]
  },
  {
   "cell_type": "markdown",
   "metadata": {},
   "source": [
    "# Programación Orientada a Objetos: Clases\n",
    "\n",
    "Es una forma de ganar abstracción, nos permite \n",
    "\n",
    "## The Main"
   ]
  },
  {
   "cell_type": "code",
   "execution_count": null,
   "metadata": {},
   "outputs": [],
   "source": []
  }
 ],
 "metadata": {
  "kernelspec": {
   "display_name": "Python 3",
   "language": "python",
   "name": "python3"
  },
  "language_info": {
   "codemirror_mode": {
    "name": "ipython",
    "version": 3
   },
   "file_extension": ".py",
   "mimetype": "text/x-python",
   "name": "python",
   "nbconvert_exporter": "python",
   "pygments_lexer": "ipython3",
   "version": "3.7.0"
  }
 },
 "nbformat": 4,
 "nbformat_minor": 2
}
